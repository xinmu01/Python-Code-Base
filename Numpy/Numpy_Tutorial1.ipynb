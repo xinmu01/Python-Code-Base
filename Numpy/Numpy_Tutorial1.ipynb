{
 "cells": [
  {
   "cell_type": "code",
   "execution_count": 2,
   "metadata": {
    "collapsed": true
   },
   "outputs": [],
   "source": [
    "import time\n",
    "import numpy as np"
   ]
  },
  {
   "cell_type": "code",
   "execution_count": 6,
   "metadata": {
    "collapsed": false
   },
   "outputs": [
    {
     "name": "stdout",
     "output_type": "stream",
     "text": [
      "(100000000,)\n",
      "<class 'numpy.ndarray'>\n",
      "(100000000, 1)\n",
      "<class 'numpy.ndarray'>\n"
     ]
    }
   ],
   "source": [
    "x=np.random.random(100000000)\n",
    "print(x.shape)\n",
    "print(type(x))\n",
    "y = x.reshape((100000000,1))\n",
    "print(y.shape)\n",
    "print(type(y))"
   ]
  },
  {
   "cell_type": "code",
   "execution_count": 9,
   "metadata": {
    "collapsed": false
   },
   "outputs": [
    {
     "name": "stdout",
     "output_type": "stream",
     "text": [
      "33331404.5829\n"
     ]
    }
   ],
   "source": [
    "print(np.dot(x,x)) #x is a 1d array. Can be treated as both a column vector and a row vector. It is flexible.\n",
    "#print(np.dot(y,y)) #y is a 2D array."
   ]
  },
  {
   "cell_type": "code",
   "execution_count": 4,
   "metadata": {
    "collapsed": false
   },
   "outputs": [
    {
     "name": "stdout",
     "output_type": "stream",
     "text": [
      "9.32835817337\n"
     ]
    }
   ],
   "source": [
    "start = time.time()\n",
    "sum(x)/len(x)\n",
    "print time.time()-start"
   ]
  },
  {
   "cell_type": "code",
   "execution_count": 5,
   "metadata": {
    "collapsed": false
   },
   "outputs": [
    {
     "name": "stdout",
     "output_type": "stream",
     "text": [
      "0.0721430778503\n"
     ]
    }
   ],
   "source": [
    "start = time.time()\n",
    "np.mean(x)\n",
    "print time.time()-start"
   ]
  },
  {
   "cell_type": "code",
   "execution_count": 51,
   "metadata": {
    "collapsed": false
   },
   "outputs": [],
   "source": [
    "y=np.array([1,2,3,4])\n",
    "y1=np.array([[1,2,3,4]])\n",
    "z=np.array([[1,2,3,4],[5,6,7,8]])"
   ]
  },
  {
   "cell_type": "code",
   "execution_count": 52,
   "metadata": {
    "collapsed": false
   },
   "outputs": [
    {
     "name": "stdout",
     "output_type": "stream",
     "text": [
      "<class 'numpy.ndarray'>\n",
      "(4,)\n",
      "<class 'numpy.ndarray'>\n",
      "(1, 4)\n",
      "<class 'numpy.ndarray'>\n",
      "(2, 4)\n"
     ]
    }
   ],
   "source": [
    "print(type(y))\n",
    "print(y.shape)\n",
    "print(type(y1))\n",
    "print(y1.shape)\n",
    "print(type(z))\n",
    "print(z.shape)"
   ]
  },
  {
   "cell_type": "code",
   "execution_count": 53,
   "metadata": {
    "collapsed": false
   },
   "outputs": [
    {
     "name": "stdout",
     "output_type": "stream",
     "text": [
      "[30 70]\n",
      "(2,)\n"
     ]
    }
   ],
   "source": [
    "print(np.dot(z,y)) # y can be treated as a column vector. \n",
    "print(np.dot(z,y).shape)"
   ]
  },
  {
   "cell_type": "code",
   "execution_count": 54,
   "metadata": {
    "collapsed": false
   },
   "outputs": [
    {
     "name": "stdout",
     "output_type": "stream",
     "text": [
      "[11 14 17 20]\n",
      "(4,)\n"
     ]
    }
   ],
   "source": [
    "y=np.array([1,2])\n",
    "y.shape\n",
    "print(np.dot(y,z)) # y can be treated as a row vector\n",
    "print(np.dot(y,z).shape)"
   ]
  },
  {
   "cell_type": "code",
   "execution_count": 27,
   "metadata": {
    "collapsed": false
   },
   "outputs": [],
   "source": [
    "np.save('mymatrix', z)"
   ]
  },
  {
   "cell_type": "code",
   "execution_count": 28,
   "metadata": {
    "collapsed": false
   },
   "outputs": [
    {
     "data": {
      "text/plain": [
       "array([[1, 2, 3, 4],\n",
       "       [5, 6, 7, 8]])"
      ]
     },
     "execution_count": 28,
     "metadata": {},
     "output_type": "execute_result"
    }
   ],
   "source": [
    "z1=np.load('mymatrix.npy')\n",
    "z1"
   ]
  },
  {
   "cell_type": "code",
   "execution_count": 30,
   "metadata": {
    "collapsed": false
   },
   "outputs": [
    {
     "name": "stdout",
     "output_type": "stream",
     "text": [
      "[[0 0 0 0]\n",
      " [0 0 0 0]\n",
      " [0 0 0 0]]\n",
      "(3, 4)\n"
     ]
    }
   ],
   "source": [
    "xx=np.zeros((3,4),dtype='int32')\n",
    "print (xx)\n",
    "print(xx.shape)"
   ]
  },
  {
   "cell_type": "code",
   "execution_count": 55,
   "metadata": {
    "collapsed": false
   },
   "outputs": [
    {
     "name": "stdout",
     "output_type": "stream",
     "text": [
      "[ 0.   1.6]\n",
      "(2,)\n",
      "[[ 0. ]\n",
      " [ 1.6]]\n",
      "float64\n"
     ]
    }
   ],
   "source": [
    "yy=np.arange(0,3.0,1.6)\n",
    "print(yy)\n",
    "print(yy.shape)\n",
    "print(yy.reshape(2,1))\n",
    "print(yy.dtype)"
   ]
  },
  {
   "cell_type": "code",
   "execution_count": 57,
   "metadata": {
    "collapsed": false
   },
   "outputs": [
    {
     "name": "stdout",
     "output_type": "stream",
     "text": [
      "[ 0.  1.  2.]\n",
      "(3,)\n",
      "float64\n"
     ]
    }
   ],
   "source": [
    "yy=np.linspace(0,2,3)\n",
    "print(yy)\n",
    "print(yy.shape)\n",
    "print(yy.dtype)"
   ]
  },
  {
   "cell_type": "code",
   "execution_count": 63,
   "metadata": {
    "collapsed": true
   },
   "outputs": [],
   "source": [
    "x=np.random.normal(0,0.1,(5,5))"
   ]
  },
  {
   "cell_type": "code",
   "execution_count": 66,
   "metadata": {
    "collapsed": false
   },
   "outputs": [
    {
     "name": "stdout",
     "output_type": "stream",
     "text": [
      "[[ 0.00704435 -0.00455138  0.00040049  0.07750823  0.1694037 ]\n",
      " [-0.26850763 -0.06775095 -0.10796911  0.01420415  0.0321296 ]\n",
      " [-0.027579    0.00904359 -0.10254066 -0.05273357  0.03899523]\n",
      " [-0.08079524 -0.07257549 -0.01731809  0.04178829 -0.05836032]\n",
      " [-0.1450246  -0.04062728  0.182834   -0.01691438 -0.18899238]]\n",
      "(5, 5)\n",
      "-0.678888476144\n",
      "-0.0271555390458\n"
     ]
    }
   ],
   "source": [
    "print (x)\n",
    "print(x.shape)\n",
    "print(x.sum())\n",
    "print(x.mean())"
   ]
  },
  {
   "cell_type": "code",
   "execution_count": 72,
   "metadata": {
    "collapsed": false
   },
   "outputs": [
    {
     "name": "stdout",
     "output_type": "stream",
     "text": [
      "-0.176461519174\n",
      "-0.397893951555\n",
      "-0.397893951555\n",
      "-0.397893951555\n"
     ]
    }
   ],
   "source": [
    "print(x[:,1].sum())\n",
    "#print(x[,1].sum()) invalid syntax, must have :\n",
    "print(x[1,].sum())\n",
    "print(x[1,:].sum())\n",
    "print(x[1].sum())"
   ]
  },
  {
   "cell_type": "code",
   "execution_count": 78,
   "metadata": {
    "collapsed": false
   },
   "outputs": [
    {
     "name": "stdout",
     "output_type": "stream",
     "text": [
      "[[False  True False False False]\n",
      " [ True  True  True False False]\n",
      " [ True False  True  True False]\n",
      " [ True  True  True False  True]\n",
      " [ True  True False  True  True]]\n"
     ]
    },
    {
     "data": {
      "text/plain": [
       "15"
      ]
     },
     "execution_count": 78,
     "metadata": {},
     "output_type": "execute_result"
    }
   ],
   "source": [
    "print(x<0)\n",
    "(x<0).sum()"
   ]
  },
  {
   "cell_type": "code",
   "execution_count": 77,
   "metadata": {
    "collapsed": false
   },
   "outputs": [
    {
     "name": "stdout",
     "output_type": "stream",
     "text": [
      "[[ True False  True  True  True]\n",
      " [False False False  True  True]\n",
      " [False  True False False  True]\n",
      " [False False False  True False]\n",
      " [False False  True False False]]\n"
     ]
    },
    {
     "data": {
      "text/plain": [
       "10"
      ]
     },
     "execution_count": 77,
     "metadata": {},
     "output_type": "execute_result"
    }
   ],
   "source": [
    "print(x>0)\n",
    "(x>=0).sum()"
   ]
  },
  {
   "cell_type": "code",
   "execution_count": 79,
   "metadata": {
    "collapsed": false
   },
   "outputs": [
    {
     "name": "stdout",
     "output_type": "stream",
     "text": [
      "X = \n",
      " [[1 2 3]\n",
      " [5 2 8]\n",
      " [1 2 3]]\n",
      "The unique elements in X are: [1 2 3 5 8]\n",
      "(5,)\n"
     ]
    }
   ],
   "source": [
    "# Create 3 x 3 ndarray with repeated values\n",
    "X = np.array([[1,2,3],[5,2,8],[1,2,3]])\n",
    "\n",
    "# We print X\n",
    "\n",
    "print ('X = \\n', X) \n",
    "\n",
    "# We print the unique elements of X \n",
    "print ('The unique elements in X are:',np.unique(X))\n",
    "print (np.unique(X).shape)"
   ]
  },
  {
   "cell_type": "code",
   "execution_count": 81,
   "metadata": {
    "collapsed": false
   },
   "outputs": [
    {
     "name": "stdout",
     "output_type": "stream",
     "text": [
      "[6 8 3]\n",
      "[[ 8 10  4  7  3]\n",
      " [ 7  5  3 10  8]\n",
      " [ 2  7  7  9 10]\n",
      " [ 7  3  1  1  5]\n",
      " [ 7  4  7  3  9]]\n"
     ]
    }
   ],
   "source": [
    "x=np.random.randint(1,11,size=3)\n",
    "print(x)\n",
    "y=np.random.randint(1,11,size = (5,5))\n",
    "print(y)"
   ]
  },
  {
   "cell_type": "code",
   "execution_count": 82,
   "metadata": {
    "collapsed": false
   },
   "outputs": [
    {
     "name": "stdout",
     "output_type": "stream",
     "text": [
      "[[ 1.  1.  1.  1.]\n",
      " [ 1.  1.  1.  1.]\n",
      " [ 1.  1.  1.  1.]\n",
      " [ 1.  1.  1.  1.]]\n",
      "float64\n"
     ]
    }
   ],
   "source": [
    "x=np.ones((4,4))\n",
    "print (x)\n",
    "print(x.dtype)"
   ]
  },
  {
   "cell_type": "code",
   "execution_count": null,
   "metadata": {
    "collapsed": true
   },
   "outputs": [],
   "source": []
  }
 ],
 "metadata": {
  "anaconda-cloud": {},
  "kernelspec": {
   "display_name": "Python [conda env:py36]",
   "language": "python",
   "name": "conda-env-py36-py"
  },
  "language_info": {
   "codemirror_mode": {
    "name": "ipython",
    "version": 3
   },
   "file_extension": ".py",
   "mimetype": "text/x-python",
   "name": "python",
   "nbconvert_exporter": "python",
   "pygments_lexer": "ipython3",
   "version": "3.6.2"
  }
 },
 "nbformat": 4,
 "nbformat_minor": 1
}
