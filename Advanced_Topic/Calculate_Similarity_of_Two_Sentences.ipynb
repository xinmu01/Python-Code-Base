{
 "cells": [
  {
   "cell_type": "code",
   "execution_count": 70,
   "metadata": {
    "collapsed": false
   },
   "outputs": [],
   "source": [
    "import pandas as pd\n",
    "import numpy as np\n",
    "import string"
   ]
  },
  {
   "cell_type": "code",
   "execution_count": 71,
   "metadata": {
    "collapsed": false
   },
   "outputs": [],
   "source": [
    "\n",
    "exclude = set(string.punctuation)\n",
    "\n",
    "def sentence_cosine_similarity(n):\n",
    "    \"\"\"\n",
    "    This function calcuate the cosine similarity of input sentence. The argument is the number of \n",
    "    input sentences.\n",
    "    \"\"\"\n",
    "    sentences = []\n",
    "    for i in range(n):\n",
    "        line = input(\"Please enter the #{} sentence: \".format(i+1))\n",
    "        sentences.append(''.join([ch for ch in line.strip().lower() if ch not in exclude]).split())\n",
    "    \n",
    "    sentences_word_count=[]\n",
    "    for sen in sentences:\n",
    "        word_cnt = {}\n",
    "        for word in sen:\n",
    "            if word in word_cnt:\n",
    "                word_cnt[word]+=1\n",
    "            else:\n",
    "                word_cnt[word] = 1\n",
    "        sentences_word_count.append(word_cnt)\n",
    "    \n",
    "    print (sentences_word_count)\n",
    "    \n",
    "    sentences_count_vectorized = pd.DataFrame(sentences_word_count)\n",
    "    \n",
    "    sentences_count_vectorized = sentences_count_vectorized.fillna(0)\n",
    "    print (sentences_count_vectorized)\n",
    "    \n",
    "    sentences_count_vectorized_array = sentences_count_vectorized.values  \n",
    "    \n",
    "    results = dict()\n",
    "    \n",
    "    for i in range(sentences_count_vectorized_array.shape[0]-1):\n",
    "        array_1 = sentences_count_vectorized_array[i,]\n",
    "        array_2 = sentences_count_vectorized_array[i+1,]\n",
    "        \n",
    "        temp = round(np.dot(array_1,array_2)/np.sqrt(np.dot(array_1,array_1))/np.\n",
    "                 sqrt(np.dot(array_2,array_2)),3)\n",
    "        \n",
    "        print(\"The cosine similarity of sentence #{} and sentence #{} is: \".format(i+1,i+2),temp)\n",
    "        \n",
    "        results[\"Sentence #{} and Sentence #{}\".format(i+1,i+2)] = temp\n",
    "    \n",
    "    return results\n"
   ]
  },
  {
   "cell_type": "code",
   "execution_count": 72,
   "metadata": {
    "collapsed": false
   },
   "outputs": [
    {
     "name": "stdout",
     "output_type": "stream",
     "text": [
      "Please enter the #1 sentence: I am Xin\n",
      "Please enter the #2 sentence: I like football\n",
      "Please enter the #3 sentence: I also like basketball\n",
      "[{'i': 1, 'am': 1, 'xin': 1}, {'i': 1, 'like': 1, 'football': 1}, {'i': 1, 'also': 1, 'like': 1, 'basketball': 1}]\n",
      "   also   am  basketball  football  i  like  xin\n",
      "0   0.0  1.0         0.0       0.0  1   0.0  1.0\n",
      "1   0.0  0.0         0.0       1.0  1   1.0  0.0\n",
      "2   1.0  0.0         1.0       0.0  1   1.0  0.0\n",
      "The cosine similarity of sentence #1 and sentence #2 is:  0.333\n",
      "The cosine similarity of sentence #2 and sentence #3 is:  0.577\n",
      "{'Sentence #1 and Sentence #2': 0.33300000000000002, 'Sentence #2 and Sentence #3': 0.57699999999999996}\n"
     ]
    }
   ],
   "source": [
    "if __name__ == \"__main__\":\n",
    "  \n",
    "    cosine_similarity = sentence_cosine_similarity(3)\n",
    "    print(cosine_similarity)"
   ]
  },
  {
   "cell_type": "code",
   "execution_count": null,
   "metadata": {
    "collapsed": true
   },
   "outputs": [],
   "source": []
  }
 ],
 "metadata": {
  "anaconda-cloud": {},
  "kernelspec": {
   "display_name": "Python [conda env:py36]",
   "language": "python",
   "name": "conda-env-py36-py"
  },
  "language_info": {
   "codemirror_mode": {
    "name": "ipython",
    "version": 3
   },
   "file_extension": ".py",
   "mimetype": "text/x-python",
   "name": "python",
   "nbconvert_exporter": "python",
   "pygments_lexer": "ipython3",
   "version": "3.6.2"
  }
 },
 "nbformat": 4,
 "nbformat_minor": 1
}
